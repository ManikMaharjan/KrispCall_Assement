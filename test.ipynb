{
 "cells": [
  {
   "cell_type": "code",
   "execution_count": 14,
   "metadata": {},
   "outputs": [],
   "source": [
    "import pandas as pd, numpy as np, os, re"
   ]
  },
  {
   "cell_type": "code",
   "execution_count": 15,
   "metadata": {},
   "outputs": [],
   "source": [
    "def parse_duration(x):\n",
    "    if pd.isna(x): return 0.0\n",
    "    s = str(x).strip()\n",
    "    m = re.search(r'([0-9]+(?:\\.[0-9]+)?)', s)\n",
    "    if m:\n",
    "        try:\n",
    "            return float(m.group(1))\n",
    "        except:\n",
    "            return 0.0\n",
    "    return 0.0"
   ]
  },
  {
   "cell_type": "code",
   "execution_count": 16,
   "metadata": {},
   "outputs": [],
   "source": [
    "def run_pipeline(data_dir=\".\", out_dir=\".\"):\n",
    "    sms_to_seconds = 5.0"
   ]
  },
  {
   "cell_type": "code",
   "execution_count": 17,
   "metadata": {},
   "outputs": [],
   "source": [
    "\n",
    "workspace_df = pd.read_csv(\"data/final_workspace_data.csv\")\n",
    "payment_df = pd.read_csv(\"data/final_payment_refund_data.csv\")\n",
    "integration_df = pd.read_csv(\"data/final_integration_data.csv\")\n",
    "calls_sms_df = pd.read_csv(\"data/final_calls_sms_detailed_data.csv\")\n"
   ]
  },
  {
   "cell_type": "code",
   "execution_count": 18,
   "metadata": {},
   "outputs": [],
   "source": [
    "workspace_df['member_emails'] = workspace_df['member_emails'].fillna('')\n",
    "rows = []\n",
    "for _, r in workspace_df.iterrows():\n",
    "        owner = r['owner_email']\n",
    "        rows.append({'workspace_id': r['workspace_id'], 'workspace_name': r['workspace_name'],\n",
    "                     'owner_email': owner, 'user_email': owner, 'is_owner': True})\n",
    "        if r['member_emails'].strip() != '':\n",
    "            members = [m.strip() for m in r['member_emails'].split(',') if m.strip()!='']\n",
    "            for m in members:\n",
    "                rows.append({'workspace_id': r['workspace_id'], 'workspace_name': r['workspace_name'],\n",
    "                             'owner_email': owner, 'user_email': m, 'is_owner': False})\n",
    "workspace_users_df = pd.DataFrame(rows)\n"
   ]
  },
  {
   "cell_type": "code",
   "execution_count": 19,
   "metadata": {},
   "outputs": [],
   "source": [
    "\n",
    "    # Payments/refunds -> net revenue\n",
    "payment_df['time_dt'] = pd.to_datetime(payment_df['time'], unit='s')\n",
    "payments = payment_df[payment_df['event']=='New Payment Made'].copy().rename(columns={'$email':'owner_email','Amount':'Amount_paid'})\n",
    "payments_sum = payments.groupby('owner_email', as_index=False)['Amount_paid'].sum().rename(columns={'Amount_paid':'total_payments'})\n",
    "first_payment = payments.groupby('owner_email', as_index=False)['time_dt'].min().rename(columns={'time_dt':'first_payment_time'})\n",
    "\n",
    "refunds = payment_df[payment_df['event']=='Refund Granted'].copy().rename(columns={'User Email':'owner_email','Refund Amount':'Refund_Amount'})\n",
    "refunds_sum = refunds.groupby('owner_email', as_index=False)['Refund_Amount'].sum().rename(columns={'Refund_Amount':'total_refunds'})\n",
    "first_refund = refunds.groupby('owner_email', as_index=False)['time_dt'].min().rename(columns={'time_dt':'first_refund_time'})\n",
    "\n",
    "owner_revenue = payments_sum.merge(refunds_sum, on='owner_email', how='left').merge(first_payment, on='owner_email', how='left').merge(first_refund, on='owner_email', how='left')\n",
    "owner_revenue['total_refunds'] = owner_revenue['total_refunds'].fillna(0)\n",
    "owner_revenue['net_revenue'] = owner_revenue['total_payments'] - owner_revenue['total_refunds']\n",
    "owner_revenue = owner_revenue[owner_revenue['net_revenue'] > 0].copy()"
   ]
  },
  {
   "cell_type": "code",
   "execution_count": 20,
   "metadata": {},
   "outputs": [],
   "source": [
    "# Integration windows\n",
    "integration_df['event_time'] = pd.to_datetime(integration_df['time'], unit='s')\n",
    "int_events = integration_df[integration_df['event'].isin(['Integration Connected','Integration Disconnected'])].sort_values(['distinct_id','Integration Platform','event_time'])\n",
    "conn_windows = []\n",
    "for (user, platform), grp in int_events.groupby(['distinct_id','Integration Platform']):\n",
    "        starts = []\n",
    "        for _, row in grp.iterrows():\n",
    "            if row['event'] == 'Integration Connected':\n",
    "                starts.append(row['event_time'])\n",
    "            elif row['event'] == 'Integration Disconnected':\n",
    "                if starts:\n",
    "                    start = starts.pop(0)\n",
    "                    conn_windows.append({'user_email': user, 'platform': platform, 'connected_from': start, 'connected_to': row['event_time']})\n",
    "        for start in starts:\n",
    "            conn_windows.append({'user_email': user, 'platform': platform, 'connected_from': start, 'connected_to': pd.NaT})\n",
    "conn_windows_df = pd.DataFrame(conn_windows)\n",
    "conn_windows_df = conn_windows_df.merge(workspace_users_df[['user_email','owner_email','workspace_id']], left_on='user_email', right_on='user_email', how='left')"
   ]
  },
  {
   "cell_type": "code",
   "execution_count": 22,
   "metadata": {},
   "outputs": [],
   "source": [
    " # Usage\n",
    "calls_sms_df['event_time'] = pd.to_datetime(calls_sms_df['time'], unit='s')\n",
    "calls_sms_df['call_seconds'] = calls_sms_df['Duration'].apply(parse_duration)\n",
    "calls_sms_df['sms_segments'] = calls_sms_df['Segments'].fillna(0).astype(int)\n",
    "calls_sms_df = calls_sms_df.rename(columns={'Owner':'owner_email','Email':'user_email','Platform':'platform','Workspace':'workspace_name'})\n",
    "usage_df = calls_sms_df.merge(owner_revenue[['owner_email','first_payment_time','first_refund_time','net_revenue']], on='owner_email', how='left')\n",
    "usage_df = usage_df[~usage_df['net_revenue'].isna()].copy()\n",
    "cond_after = usage_df['event_time'] >= usage_df['first_payment_time']\n",
    "cond_before = usage_df['first_refund_time'].isna() | (usage_df['event_time'] <= usage_df['first_refund_time'])\n",
    "sage_df = usage_df[cond_after & cond_before].copy()\n",
    "\n",
    "def has_active_connection(row):\n",
    "        if row['platform'] in ('web','mobile'): return True\n",
    "        user = row['user_email']; plat = row['platform']; et = row['event_time']\n",
    "        wins = conn_windows_df[(conn_windows_df['user_email']==user) & (conn_windows_df['platform']==plat)]\n",
    "        for _, w in wins.iterrows():\n",
    "            start = w['connected_from']; end = w['connected_to']\n",
    "            if pd.isna(end):\n",
    "                if et >= start: return True\n",
    "            else:\n",
    "                if (et >= start) and (et <= end): return True\n",
    "        return False\n",
    "\n",
    "usage_df['valid_connection'] = usage_df.apply(has_active_connection, axis=1)\n",
    "usage_df = usage_df[usage_df['valid_connection']].copy()\n",
    "usage_df['usage_units'] = usage_df['call_seconds'] + usage_df['sms_segments'] \n",
    "usage_owner_platform = usage_df.groupby(['owner_email','platform'], as_index=False)['usage_units'].sum()\n",
    "owner_total_usage = usage_owner_platform.groupby('owner_email', as_index=False)['usage_units'].sum().rename(columns={'usage_units':'total_usage_units'})\n",
    "usage_owner_platform = usage_owner_platform.merge(owner_revenue[['owner_email','net_revenue']], on='owner_email', how='left').merge(owner_total_usage, on='owner_email', how='left')\n",
    "usage_owner_platform['attributed_revenue'] = usage_owner_platform.apply(lambda r: (r['usage_units']/r['total_usage_units'])*r['net_revenue'] if r['total_usage_units']>0 else 0.0, axis=1)\n",
    "usage_attrib_platform = usage_owner_platform.groupby('platform', as_index=False)['attributed_revenue'].sum().rename(columns={'attributed_revenue':'revenue'})\n",
    "owners_with_no_usage = owner_revenue[~owner_revenue['owner_email'].isin(owner_total_usage['owner_email'])]\n",
    "no_usage_sum = owners_with_no_usage['net_revenue'].sum()\n",
    "if no_usage_sum>0:\n",
    "        usage_attrib_platform = usage_attrib_platform.append({'platform':'No Usage','revenue':no_usage_sum}, ignore_index=True)\n",
    "usage_attrib_platform['revenue'] = usage_attrib_platform['revenue'].round(2)\n"
   ]
  },
  {
   "cell_type": "code",
   "execution_count": 23,
   "metadata": {},
   "outputs": [],
   "source": [
    "# First-touch\n",
    "first_touch_rows = []\n",
    "for _, orow in owner_revenue.iterrows():\n",
    "        owner = orow['owner_email']; fp = orow['first_payment_time']\n",
    "        cand = conn_windows_df[(conn_windows_df['owner_email']==owner) & (conn_windows_df['connected_from']>=fp)].copy()\n",
    "        if cand.empty:\n",
    "            first_touch_rows.append({'owner_email':owner, 'platform':'No Integration', 'net_revenue':orow['net_revenue']})\n",
    "        else:\n",
    "            cand = cand.sort_values('connected_from')\n",
    "            plat = cand.iloc[0]['platform']\n",
    "            first_touch_rows.append({'owner_email':owner, 'platform':plat, 'net_revenue':orow['net_revenue']})\n",
    "first_touch_df = pd.DataFrame(first_touch_rows)\n",
    "first_touch_platform = first_touch_df.groupby('platform', as_index=False)['net_revenue'].sum().rename(columns={'net_revenue':'revenue'})\n",
    "first_touch_platform['revenue'] = first_touch_platform['revenue'].round(2)"
   ]
  },
  {
   "cell_type": "code",
   "execution_count": 24,
   "metadata": {},
   "outputs": [],
   "source": [
    "# Position-based\n",
    "position_rows = []\n",
    "for _, orow in owner_revenue.iterrows():\n",
    "        owner = orow['owner_email']; fp = orow['first_payment_time']\n",
    "        cand = conn_windows_df[(conn_windows_df['owner_email']==owner) & (conn_windows_df['connected_from']>=fp)].copy()\n",
    "        if cand.empty:\n",
    "            position_rows.append({'owner_email':owner, 'platform':'No Integration', 'weight':1.0, 'net_revenue':orow['net_revenue']})\n",
    "            continue\n",
    "        cand = cand.sort_values('connected_from')\n",
    "        platforms = list(dict.fromkeys(cand['platform'].tolist()))\n",
    "        total = len(platforms)\n",
    "        for idx, plat in enumerate(platforms, start=1):\n",
    "            if total == 1:\n",
    "                w = 1.0\n",
    "            elif total == 2:\n",
    "                w = 0.6 if idx==1 else 0.4\n",
    "            else:\n",
    "                if idx==1 or idx==total:\n",
    "                    w = 0.4\n",
    "                else:\n",
    "                    w = 0.2 / (total - 2)\n",
    "            position_rows.append({'owner_email':owner, 'platform':plat, 'weight':w, 'net_revenue':orow['net_revenue']})\n",
    "position_df = pd.DataFrame(position_rows)\n",
    "position_df['attributed_revenue'] = position_df['weight'] * position_df['net_revenue']\n",
    "position_platform = position_df.groupby('platform', as_index=False)['attributed_revenue'].sum().rename(columns={'attributed_revenue':'revenue'})\n",
    "position_platform['revenue'] = position_platform['revenue'].round(2)"
   ]
  },
  {
   "cell_type": "code",
   "execution_count": 26,
   "metadata": {},
   "outputs": [],
   "source": [
    "first_touch_platform.to_csv(os.path.join(\"output/\", \"first_touch_attribution.csv\"), index=False)\n",
    "usage_attrib_platform.to_csv(os.path.join(\"output/\", \"usage_based_attribution.csv\"), index=False)\n",
    "position_platform.to_csv(os.path.join(\"output/\", \"chosen_attribution.csv\"), index=False)"
   ]
  }
 ],
 "metadata": {
  "kernelspec": {
   "display_name": "base",
   "language": "python",
   "name": "python3"
  },
  "language_info": {
   "codemirror_mode": {
    "name": "ipython",
    "version": 3
   },
   "file_extension": ".py",
   "mimetype": "text/x-python",
   "name": "python",
   "nbconvert_exporter": "python",
   "pygments_lexer": "ipython3",
   "version": "3.9.13"
  }
 },
 "nbformat": 4,
 "nbformat_minor": 2
}
